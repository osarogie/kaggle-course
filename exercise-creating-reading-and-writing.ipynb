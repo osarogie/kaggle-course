{
 "cells": [
  {
   "cell_type": "markdown",
   "id": "7fd74592",
   "metadata": {
    "papermill": {
     "duration": 0.008393,
     "end_time": "2022-10-12T09:32:49.984560",
     "exception": false,
     "start_time": "2022-10-12T09:32:49.976167",
     "status": "completed"
    },
    "tags": []
   },
   "source": [
    "**This notebook is an exercise in the [Pandas](https://www.kaggle.com/learn/pandas) course.  You can reference the tutorial at [this link](https://www.kaggle.com/residentmario/creating-reading-and-writing).**\n",
    "\n",
    "---\n"
   ]
  },
  {
   "cell_type": "markdown",
   "id": "97539dfb",
   "metadata": {
    "papermill": {
     "duration": 0.006014,
     "end_time": "2022-10-12T09:32:49.996632",
     "exception": false,
     "start_time": "2022-10-12T09:32:49.990618",
     "status": "completed"
    },
    "tags": []
   },
   "source": [
    "# Introduction\n",
    "\n",
    "The first step in most data analytics projects is reading the data file. In this exercise, you'll create Series and DataFrame objects, both by hand and by reading data files.\n",
    "\n",
    "Run the code cell below to load libraries you will need (including code to check your answers)."
   ]
  },
  {
   "cell_type": "code",
   "execution_count": 1,
   "id": "65c97882",
   "metadata": {
    "execution": {
     "iopub.execute_input": "2022-10-12T09:32:50.010869Z",
     "iopub.status.busy": "2022-10-12T09:32:50.010200Z",
     "iopub.status.idle": "2022-10-12T09:32:51.832524Z",
     "shell.execute_reply": "2022-10-12T09:32:51.829734Z"
    },
    "papermill": {
     "duration": 1.832938,
     "end_time": "2022-10-12T09:32:51.835439",
     "exception": false,
     "start_time": "2022-10-12T09:32:50.002501",
     "status": "completed"
    },
    "tags": []
   },
   "outputs": [
    {
     "name": "stdout",
     "output_type": "stream",
     "text": [
      "Setup complete.\n"
     ]
    }
   ],
   "source": [
    "import pandas as pd\n",
    "pd.set_option('max_rows', 5)\n",
    "from learntools.core import binder; binder.bind(globals())\n",
    "from learntools.pandas.creating_reading_and_writing import *\n",
    "print(\"Setup complete.\")"
   ]
  },
  {
   "cell_type": "markdown",
   "id": "5cef415f",
   "metadata": {
    "papermill": {
     "duration": 0.005398,
     "end_time": "2022-10-12T09:32:51.847051",
     "exception": false,
     "start_time": "2022-10-12T09:32:51.841653",
     "status": "completed"
    },
    "tags": []
   },
   "source": [
    "# Exercises"
   ]
  },
  {
   "cell_type": "markdown",
   "id": "52d64099",
   "metadata": {
    "papermill": {
     "duration": 0.005382,
     "end_time": "2022-10-12T09:32:51.858056",
     "exception": false,
     "start_time": "2022-10-12T09:32:51.852674",
     "status": "completed"
    },
    "tags": []
   },
   "source": [
    "## 1.\n",
    "\n",
    "In the cell below, create a DataFrame `fruits` that looks like this:\n",
    "\n",
    "![](https://i.imgur.com/Ax3pp2A.png)"
   ]
  },
  {
   "cell_type": "code",
   "execution_count": 2,
   "id": "d432baf4",
   "metadata": {
    "execution": {
     "iopub.execute_input": "2022-10-12T09:32:51.871365Z",
     "iopub.status.busy": "2022-10-12T09:32:51.870673Z",
     "iopub.status.idle": "2022-10-12T09:32:51.892479Z",
     "shell.execute_reply": "2022-10-12T09:32:51.891300Z"
    },
    "papermill": {
     "duration": 0.031223,
     "end_time": "2022-10-12T09:32:51.894869",
     "exception": false,
     "start_time": "2022-10-12T09:32:51.863646",
     "status": "completed"
    },
    "tags": []
   },
   "outputs": [
    {
     "data": {
      "application/javascript": [
       "parent.postMessage({\"jupyterEvent\": \"custom.exercise_interaction\", \"data\": {\"outcomeType\": 1, \"valueTowardsCompletion\": 0.16666666666666666, \"interactionType\": 1, \"questionType\": 1, \"questionId\": \"1_FruitDfCreation\", \"learnToolsVersion\": \"0.3.4\", \"failureMessage\": \"\", \"exceptionClass\": \"\", \"trace\": \"\"}}, \"*\")"
      ],
      "text/plain": [
       "<IPython.core.display.Javascript object>"
      ]
     },
     "metadata": {},
     "output_type": "display_data"
    },
    {
     "data": {
      "text/markdown": [
       "<span style=\"color:#33cc33\">Correct</span>"
      ],
      "text/plain": [
       "Correct"
      ]
     },
     "metadata": {},
     "output_type": "display_data"
    },
    {
     "data": {
      "text/html": [
       "<div>\n",
       "<style scoped>\n",
       "    .dataframe tbody tr th:only-of-type {\n",
       "        vertical-align: middle;\n",
       "    }\n",
       "\n",
       "    .dataframe tbody tr th {\n",
       "        vertical-align: top;\n",
       "    }\n",
       "\n",
       "    .dataframe thead th {\n",
       "        text-align: right;\n",
       "    }\n",
       "</style>\n",
       "<table border=\"1\" class=\"dataframe\">\n",
       "  <thead>\n",
       "    <tr style=\"text-align: right;\">\n",
       "      <th></th>\n",
       "      <th>Apples</th>\n",
       "      <th>Bananas</th>\n",
       "    </tr>\n",
       "  </thead>\n",
       "  <tbody>\n",
       "    <tr>\n",
       "      <th>0</th>\n",
       "      <td>30</td>\n",
       "      <td>21</td>\n",
       "    </tr>\n",
       "  </tbody>\n",
       "</table>\n",
       "</div>"
      ],
      "text/plain": [
       "   Apples  Bananas\n",
       "0      30       21"
      ]
     },
     "execution_count": 2,
     "metadata": {},
     "output_type": "execute_result"
    }
   ],
   "source": [
    "# Your code goes here. Create a dataframe matching the above diagram and assign it to the variable fruits.\n",
    "fruits = pd.DataFrame({'Apples': [30], 'Bananas':[21]})\n",
    "\n",
    "# Check your answer\n",
    "q1.check()\n",
    "fruits"
   ]
  },
  {
   "cell_type": "code",
   "execution_count": 3,
   "id": "793cea69",
   "metadata": {
    "execution": {
     "iopub.execute_input": "2022-10-12T09:32:51.908748Z",
     "iopub.status.busy": "2022-10-12T09:32:51.908351Z",
     "iopub.status.idle": "2022-10-12T09:32:51.912291Z",
     "shell.execute_reply": "2022-10-12T09:32:51.911471Z"
    },
    "papermill": {
     "duration": 0.013333,
     "end_time": "2022-10-12T09:32:51.914357",
     "exception": false,
     "start_time": "2022-10-12T09:32:51.901024",
     "status": "completed"
    },
    "tags": []
   },
   "outputs": [],
   "source": [
    "#q1.hint()\n",
    "#q1.solution()"
   ]
  },
  {
   "cell_type": "markdown",
   "id": "78150c10",
   "metadata": {
    "papermill": {
     "duration": 0.006096,
     "end_time": "2022-10-12T09:32:51.926695",
     "exception": false,
     "start_time": "2022-10-12T09:32:51.920599",
     "status": "completed"
    },
    "tags": []
   },
   "source": [
    "## 2.\n",
    "\n",
    "Create a dataframe `fruit_sales` that matches the diagram below:\n",
    "\n",
    "![](https://i.imgur.com/CHPn7ZF.png)"
   ]
  },
  {
   "cell_type": "code",
   "execution_count": 4,
   "id": "0865b32f",
   "metadata": {
    "execution": {
     "iopub.execute_input": "2022-10-12T09:32:51.941089Z",
     "iopub.status.busy": "2022-10-12T09:32:51.940410Z",
     "iopub.status.idle": "2022-10-12T09:32:51.954517Z",
     "shell.execute_reply": "2022-10-12T09:32:51.953039Z"
    },
    "papermill": {
     "duration": 0.024342,
     "end_time": "2022-10-12T09:32:51.957166",
     "exception": false,
     "start_time": "2022-10-12T09:32:51.932824",
     "status": "completed"
    },
    "tags": []
   },
   "outputs": [
    {
     "data": {
      "application/javascript": [
       "parent.postMessage({\"jupyterEvent\": \"custom.exercise_interaction\", \"data\": {\"outcomeType\": 1, \"valueTowardsCompletion\": 0.16666666666666666, \"interactionType\": 1, \"questionType\": 1, \"questionId\": \"2_FruitSalesDfCreation\", \"learnToolsVersion\": \"0.3.4\", \"failureMessage\": \"\", \"exceptionClass\": \"\", \"trace\": \"\"}}, \"*\")"
      ],
      "text/plain": [
       "<IPython.core.display.Javascript object>"
      ]
     },
     "metadata": {},
     "output_type": "display_data"
    },
    {
     "data": {
      "text/markdown": [
       "<span style=\"color:#33cc33\">Correct</span>"
      ],
      "text/plain": [
       "Correct"
      ]
     },
     "metadata": {},
     "output_type": "display_data"
    },
    {
     "data": {
      "text/html": [
       "<div>\n",
       "<style scoped>\n",
       "    .dataframe tbody tr th:only-of-type {\n",
       "        vertical-align: middle;\n",
       "    }\n",
       "\n",
       "    .dataframe tbody tr th {\n",
       "        vertical-align: top;\n",
       "    }\n",
       "\n",
       "    .dataframe thead th {\n",
       "        text-align: right;\n",
       "    }\n",
       "</style>\n",
       "<table border=\"1\" class=\"dataframe\">\n",
       "  <thead>\n",
       "    <tr style=\"text-align: right;\">\n",
       "      <th></th>\n",
       "      <th>Apples</th>\n",
       "      <th>Bananas</th>\n",
       "    </tr>\n",
       "  </thead>\n",
       "  <tbody>\n",
       "    <tr>\n",
       "      <th>2017 Sales</th>\n",
       "      <td>35</td>\n",
       "      <td>21</td>\n",
       "    </tr>\n",
       "    <tr>\n",
       "      <th>2018 Sales</th>\n",
       "      <td>41</td>\n",
       "      <td>34</td>\n",
       "    </tr>\n",
       "  </tbody>\n",
       "</table>\n",
       "</div>"
      ],
      "text/plain": [
       "            Apples  Bananas\n",
       "2017 Sales      35       21\n",
       "2018 Sales      41       34"
      ]
     },
     "execution_count": 4,
     "metadata": {},
     "output_type": "execute_result"
    }
   ],
   "source": [
    "# Your code goes here. Create a dataframe matching the above diagram and assign it to the variable fruit_sales.\n",
    "fruit_sales = pd.DataFrame({\n",
    "    'Apples': [35, 41],\n",
    "    'Bananas': [21, 34]\n",
    "}, index=['2017 Sales', '2018 Sales'])\n",
    "\n",
    "# Check your answer\n",
    "q2.check()\n",
    "fruit_sales"
   ]
  },
  {
   "cell_type": "code",
   "execution_count": 5,
   "id": "c3d878e1",
   "metadata": {
    "execution": {
     "iopub.execute_input": "2022-10-12T09:32:51.972568Z",
     "iopub.status.busy": "2022-10-12T09:32:51.972141Z",
     "iopub.status.idle": "2022-10-12T09:32:51.977020Z",
     "shell.execute_reply": "2022-10-12T09:32:51.975729Z"
    },
    "papermill": {
     "duration": 0.015221,
     "end_time": "2022-10-12T09:32:51.979382",
     "exception": false,
     "start_time": "2022-10-12T09:32:51.964161",
     "status": "completed"
    },
    "tags": []
   },
   "outputs": [],
   "source": [
    "#q2.hint()\n",
    "#q2.solution()"
   ]
  },
  {
   "cell_type": "markdown",
   "id": "cf1cbbd9",
   "metadata": {
    "papermill": {
     "duration": 0.007376,
     "end_time": "2022-10-12T09:32:51.993475",
     "exception": false,
     "start_time": "2022-10-12T09:32:51.986099",
     "status": "completed"
    },
    "tags": []
   },
   "source": [
    "## 3.\n",
    "\n",
    "Create a variable `ingredients` with a Series that looks like:\n",
    "\n",
    "```\n",
    "Flour     4 cups\n",
    "Milk       1 cup\n",
    "Eggs     2 large\n",
    "Spam       1 can\n",
    "Name: Dinner, dtype: object\n",
    "```"
   ]
  },
  {
   "cell_type": "code",
   "execution_count": 6,
   "id": "553ef659",
   "metadata": {
    "execution": {
     "iopub.execute_input": "2022-10-12T09:32:52.008586Z",
     "iopub.status.busy": "2022-10-12T09:32:52.008130Z",
     "iopub.status.idle": "2022-10-12T09:32:52.024156Z",
     "shell.execute_reply": "2022-10-12T09:32:52.022978Z"
    },
    "papermill": {
     "duration": 0.026318,
     "end_time": "2022-10-12T09:32:52.026577",
     "exception": false,
     "start_time": "2022-10-12T09:32:52.000259",
     "status": "completed"
    },
    "tags": []
   },
   "outputs": [
    {
     "data": {
      "application/javascript": [
       "parent.postMessage({\"jupyterEvent\": \"custom.exercise_interaction\", \"data\": {\"outcomeType\": 1, \"valueTowardsCompletion\": 0.16666666666666666, \"interactionType\": 1, \"questionType\": 2, \"questionId\": \"3_RecipeSeriesCreation\", \"learnToolsVersion\": \"0.3.4\", \"failureMessage\": \"\", \"exceptionClass\": \"\", \"trace\": \"\"}}, \"*\")"
      ],
      "text/plain": [
       "<IPython.core.display.Javascript object>"
      ]
     },
     "metadata": {},
     "output_type": "display_data"
    },
    {
     "data": {
      "text/markdown": [
       "<span style=\"color:#33cc33\">Correct</span>"
      ],
      "text/plain": [
       "Correct"
      ]
     },
     "metadata": {},
     "output_type": "display_data"
    },
    {
     "data": {
      "text/plain": [
       "Flour     4 cups\n",
       "Milk       1 cup\n",
       "Eggs     2 large\n",
       "Spam       1 can\n",
       "Name: Dinner, dtype: object"
      ]
     },
     "execution_count": 6,
     "metadata": {},
     "output_type": "execute_result"
    }
   ],
   "source": [
    "ingredients = pd.Series(\n",
    "    [\"4 cups\", '1 cup', '2 large', '1 can'],\n",
    "    index=['Flour','Milk','Eggs','Spam'],\n",
    "    name=\"Dinner\"\n",
    ")\n",
    "\n",
    "# Check your answer\n",
    "q3.check()\n",
    "ingredients"
   ]
  },
  {
   "cell_type": "code",
   "execution_count": 7,
   "id": "d3a2eac3",
   "metadata": {
    "execution": {
     "iopub.execute_input": "2022-10-12T09:32:52.042174Z",
     "iopub.status.busy": "2022-10-12T09:32:52.041740Z",
     "iopub.status.idle": "2022-10-12T09:32:52.046623Z",
     "shell.execute_reply": "2022-10-12T09:32:52.045488Z"
    },
    "papermill": {
     "duration": 0.015302,
     "end_time": "2022-10-12T09:32:52.048912",
     "exception": false,
     "start_time": "2022-10-12T09:32:52.033610",
     "status": "completed"
    },
    "tags": []
   },
   "outputs": [],
   "source": [
    "#q3.hint()\n",
    "#q3.solution()"
   ]
  },
  {
   "cell_type": "markdown",
   "id": "e204bbc1",
   "metadata": {
    "papermill": {
     "duration": 0.006521,
     "end_time": "2022-10-12T09:32:52.062324",
     "exception": false,
     "start_time": "2022-10-12T09:32:52.055803",
     "status": "completed"
    },
    "tags": []
   },
   "source": [
    "## 4.\n",
    "\n",
    "Read the following csv dataset of wine reviews into a DataFrame called `reviews`:\n",
    "\n",
    "![](https://i.imgur.com/74RCZtU.png)\n",
    "\n",
    "The filepath to the csv file is `../input/wine-reviews/winemag-data_first150k.csv`. The first few lines look like:\n",
    "\n",
    "```\n",
    ",country,description,designation,points,price,province,region_1,region_2,variety,winery\n",
    "0,US,\"This tremendous 100% varietal wine[...]\",Martha's Vineyard,96,235.0,California,Napa Valley,Napa,Cabernet Sauvignon,Heitz\n",
    "1,Spain,\"Ripe aromas of fig, blackberry and[...]\",Carodorum Selección Especial Reserva,96,110.0,Northern Spain,Toro,,Tinta de Toro,Bodega Carmen Rodríguez\n",
    "```"
   ]
  },
  {
   "cell_type": "code",
   "execution_count": 8,
   "id": "a9377baa",
   "metadata": {
    "execution": {
     "iopub.execute_input": "2022-10-12T09:32:52.078297Z",
     "iopub.status.busy": "2022-10-12T09:32:52.077370Z",
     "iopub.status.idle": "2022-10-12T09:32:52.984225Z",
     "shell.execute_reply": "2022-10-12T09:32:52.983122Z"
    },
    "papermill": {
     "duration": 0.917661,
     "end_time": "2022-10-12T09:32:52.986758",
     "exception": false,
     "start_time": "2022-10-12T09:32:52.069097",
     "status": "completed"
    },
    "tags": []
   },
   "outputs": [
    {
     "data": {
      "application/javascript": [
       "parent.postMessage({\"jupyterEvent\": \"custom.exercise_interaction\", \"data\": {\"outcomeType\": 1, \"valueTowardsCompletion\": 0.16666666666666666, \"interactionType\": 1, \"questionType\": 1, \"questionId\": \"4_ReadWineCsv\", \"learnToolsVersion\": \"0.3.4\", \"failureMessage\": \"\", \"exceptionClass\": \"\", \"trace\": \"\"}}, \"*\")"
      ],
      "text/plain": [
       "<IPython.core.display.Javascript object>"
      ]
     },
     "metadata": {},
     "output_type": "display_data"
    },
    {
     "data": {
      "text/markdown": [
       "<span style=\"color:#33cc33\">Correct</span>"
      ],
      "text/plain": [
       "Correct"
      ]
     },
     "metadata": {},
     "output_type": "display_data"
    },
    {
     "data": {
      "text/html": [
       "<div>\n",
       "<style scoped>\n",
       "    .dataframe tbody tr th:only-of-type {\n",
       "        vertical-align: middle;\n",
       "    }\n",
       "\n",
       "    .dataframe tbody tr th {\n",
       "        vertical-align: top;\n",
       "    }\n",
       "\n",
       "    .dataframe thead th {\n",
       "        text-align: right;\n",
       "    }\n",
       "</style>\n",
       "<table border=\"1\" class=\"dataframe\">\n",
       "  <thead>\n",
       "    <tr style=\"text-align: right;\">\n",
       "      <th></th>\n",
       "      <th>country</th>\n",
       "      <th>description</th>\n",
       "      <th>designation</th>\n",
       "      <th>points</th>\n",
       "      <th>price</th>\n",
       "      <th>province</th>\n",
       "      <th>region_1</th>\n",
       "      <th>region_2</th>\n",
       "      <th>variety</th>\n",
       "      <th>winery</th>\n",
       "    </tr>\n",
       "  </thead>\n",
       "  <tbody>\n",
       "    <tr>\n",
       "      <th>0</th>\n",
       "      <td>US</td>\n",
       "      <td>This tremendous 100% varietal wine hails from ...</td>\n",
       "      <td>Martha's Vineyard</td>\n",
       "      <td>96</td>\n",
       "      <td>235.0</td>\n",
       "      <td>California</td>\n",
       "      <td>Napa Valley</td>\n",
       "      <td>Napa</td>\n",
       "      <td>Cabernet Sauvignon</td>\n",
       "      <td>Heitz</td>\n",
       "    </tr>\n",
       "    <tr>\n",
       "      <th>1</th>\n",
       "      <td>Spain</td>\n",
       "      <td>Ripe aromas of fig, blackberry and cassis are ...</td>\n",
       "      <td>Carodorum Selección Especial Reserva</td>\n",
       "      <td>96</td>\n",
       "      <td>110.0</td>\n",
       "      <td>Northern Spain</td>\n",
       "      <td>Toro</td>\n",
       "      <td>NaN</td>\n",
       "      <td>Tinta de Toro</td>\n",
       "      <td>Bodega Carmen Rodríguez</td>\n",
       "    </tr>\n",
       "    <tr>\n",
       "      <th>...</th>\n",
       "      <td>...</td>\n",
       "      <td>...</td>\n",
       "      <td>...</td>\n",
       "      <td>...</td>\n",
       "      <td>...</td>\n",
       "      <td>...</td>\n",
       "      <td>...</td>\n",
       "      <td>...</td>\n",
       "      <td>...</td>\n",
       "      <td>...</td>\n",
       "    </tr>\n",
       "    <tr>\n",
       "      <th>150928</th>\n",
       "      <td>France</td>\n",
       "      <td>A perfect salmon shade, with scents of peaches...</td>\n",
       "      <td>Grand Brut Rosé</td>\n",
       "      <td>90</td>\n",
       "      <td>52.0</td>\n",
       "      <td>Champagne</td>\n",
       "      <td>Champagne</td>\n",
       "      <td>NaN</td>\n",
       "      <td>Champagne Blend</td>\n",
       "      <td>Gosset</td>\n",
       "    </tr>\n",
       "    <tr>\n",
       "      <th>150929</th>\n",
       "      <td>Italy</td>\n",
       "      <td>More Pinot Grigios should taste like this. A r...</td>\n",
       "      <td>NaN</td>\n",
       "      <td>90</td>\n",
       "      <td>15.0</td>\n",
       "      <td>Northeastern Italy</td>\n",
       "      <td>Alto Adige</td>\n",
       "      <td>NaN</td>\n",
       "      <td>Pinot Grigio</td>\n",
       "      <td>Alois Lageder</td>\n",
       "    </tr>\n",
       "  </tbody>\n",
       "</table>\n",
       "<p>150930 rows × 10 columns</p>\n",
       "</div>"
      ],
      "text/plain": [
       "       country                                        description  \\\n",
       "0           US  This tremendous 100% varietal wine hails from ...   \n",
       "1        Spain  Ripe aromas of fig, blackberry and cassis are ...   \n",
       "...        ...                                                ...   \n",
       "150928  France  A perfect salmon shade, with scents of peaches...   \n",
       "150929   Italy  More Pinot Grigios should taste like this. A r...   \n",
       "\n",
       "                                 designation  points  price  \\\n",
       "0                          Martha's Vineyard      96  235.0   \n",
       "1       Carodorum Selección Especial Reserva      96  110.0   \n",
       "...                                      ...     ...    ...   \n",
       "150928                       Grand Brut Rosé      90   52.0   \n",
       "150929                                   NaN      90   15.0   \n",
       "\n",
       "                  province     region_1 region_2             variety  \\\n",
       "0               California  Napa Valley     Napa  Cabernet Sauvignon   \n",
       "1           Northern Spain         Toro      NaN       Tinta de Toro   \n",
       "...                    ...          ...      ...                 ...   \n",
       "150928           Champagne    Champagne      NaN     Champagne Blend   \n",
       "150929  Northeastern Italy   Alto Adige      NaN        Pinot Grigio   \n",
       "\n",
       "                         winery  \n",
       "0                         Heitz  \n",
       "1       Bodega Carmen Rodríguez  \n",
       "...                         ...  \n",
       "150928                   Gosset  \n",
       "150929            Alois Lageder  \n",
       "\n",
       "[150930 rows x 10 columns]"
      ]
     },
     "execution_count": 8,
     "metadata": {},
     "output_type": "execute_result"
    }
   ],
   "source": [
    "reviews = pd.read_csv('../input/wine-reviews/winemag-data_first150k.csv', index_col=0)\n",
    "\n",
    "# Check your answer\n",
    "q4.check()\n",
    "reviews"
   ]
  },
  {
   "cell_type": "code",
   "execution_count": 9,
   "id": "563ff932",
   "metadata": {
    "execution": {
     "iopub.execute_input": "2022-10-12T09:32:53.003707Z",
     "iopub.status.busy": "2022-10-12T09:32:53.003229Z",
     "iopub.status.idle": "2022-10-12T09:32:53.085694Z",
     "shell.execute_reply": "2022-10-12T09:32:53.084055Z"
    },
    "papermill": {
     "duration": 0.095189,
     "end_time": "2022-10-12T09:32:53.089346",
     "exception": false,
     "start_time": "2022-10-12T09:32:52.994157",
     "status": "completed"
    },
    "tags": []
   },
   "outputs": [
    {
     "name": "stdout",
     "output_type": "stream",
     "text": [
      "<class 'pandas.core.frame.DataFrame'>\n",
      "Int64Index: 150930 entries, 0 to 150929\n",
      "Data columns (total 10 columns):\n",
      " #   Column       Non-Null Count   Dtype  \n",
      "---  ------       --------------   -----  \n",
      " 0   country      150925 non-null  object \n",
      " 1   description  150930 non-null  object \n",
      " 2   designation  105195 non-null  object \n",
      " 3   points       150930 non-null  int64  \n",
      " 4   price        137235 non-null  float64\n",
      " 5   province     150925 non-null  object \n",
      " 6   region_1     125870 non-null  object \n",
      " 7   region_2     60953 non-null   object \n",
      " 8   variety      150930 non-null  object \n",
      " 9   winery       150930 non-null  object \n",
      "dtypes: float64(1), int64(1), object(8)\n",
      "memory usage: 12.7+ MB\n"
     ]
    }
   ],
   "source": [
    "reviews.info()"
   ]
  },
  {
   "cell_type": "code",
   "execution_count": 10,
   "id": "7627e2ef",
   "metadata": {
    "execution": {
     "iopub.execute_input": "2022-10-12T09:32:53.107410Z",
     "iopub.status.busy": "2022-10-12T09:32:53.106169Z",
     "iopub.status.idle": "2022-10-12T09:32:53.142404Z",
     "shell.execute_reply": "2022-10-12T09:32:53.141583Z"
    },
    "papermill": {
     "duration": 0.047435,
     "end_time": "2022-10-12T09:32:53.144573",
     "exception": false,
     "start_time": "2022-10-12T09:32:53.097138",
     "status": "completed"
    },
    "tags": []
   },
   "outputs": [
    {
     "data": {
      "text/html": [
       "<div>\n",
       "<style scoped>\n",
       "    .dataframe tbody tr th:only-of-type {\n",
       "        vertical-align: middle;\n",
       "    }\n",
       "\n",
       "    .dataframe tbody tr th {\n",
       "        vertical-align: top;\n",
       "    }\n",
       "\n",
       "    .dataframe thead th {\n",
       "        text-align: right;\n",
       "    }\n",
       "</style>\n",
       "<table border=\"1\" class=\"dataframe\">\n",
       "  <thead>\n",
       "    <tr style=\"text-align: right;\">\n",
       "      <th></th>\n",
       "      <th>points</th>\n",
       "      <th>price</th>\n",
       "    </tr>\n",
       "  </thead>\n",
       "  <tbody>\n",
       "    <tr>\n",
       "      <th>count</th>\n",
       "      <td>150930.000000</td>\n",
       "      <td>137235.000000</td>\n",
       "    </tr>\n",
       "    <tr>\n",
       "      <th>mean</th>\n",
       "      <td>87.888418</td>\n",
       "      <td>33.131482</td>\n",
       "    </tr>\n",
       "    <tr>\n",
       "      <th>...</th>\n",
       "      <td>...</td>\n",
       "      <td>...</td>\n",
       "    </tr>\n",
       "    <tr>\n",
       "      <th>75%</th>\n",
       "      <td>90.000000</td>\n",
       "      <td>40.000000</td>\n",
       "    </tr>\n",
       "    <tr>\n",
       "      <th>max</th>\n",
       "      <td>100.000000</td>\n",
       "      <td>2300.000000</td>\n",
       "    </tr>\n",
       "  </tbody>\n",
       "</table>\n",
       "<p>8 rows × 2 columns</p>\n",
       "</div>"
      ],
      "text/plain": [
       "              points          price\n",
       "count  150930.000000  137235.000000\n",
       "mean       87.888418      33.131482\n",
       "...              ...            ...\n",
       "75%        90.000000      40.000000\n",
       "max       100.000000    2300.000000\n",
       "\n",
       "[8 rows x 2 columns]"
      ]
     },
     "execution_count": 10,
     "metadata": {},
     "output_type": "execute_result"
    }
   ],
   "source": [
    "reviews.describe()"
   ]
  },
  {
   "cell_type": "code",
   "execution_count": 11,
   "id": "4a013795",
   "metadata": {
    "execution": {
     "iopub.execute_input": "2022-10-12T09:32:53.162389Z",
     "iopub.status.busy": "2022-10-12T09:32:53.161926Z",
     "iopub.status.idle": "2022-10-12T09:32:53.169267Z",
     "shell.execute_reply": "2022-10-12T09:32:53.168282Z"
    },
    "papermill": {
     "duration": 0.018937,
     "end_time": "2022-10-12T09:32:53.171656",
     "exception": false,
     "start_time": "2022-10-12T09:32:53.152719",
     "status": "completed"
    },
    "tags": []
   },
   "outputs": [
    {
     "data": {
      "text/plain": [
       "(150930, 10)"
      ]
     },
     "execution_count": 11,
     "metadata": {},
     "output_type": "execute_result"
    }
   ],
   "source": [
    "reviews.shape"
   ]
  },
  {
   "cell_type": "code",
   "execution_count": 12,
   "id": "9efbd68b",
   "metadata": {
    "execution": {
     "iopub.execute_input": "2022-10-12T09:32:53.189645Z",
     "iopub.status.busy": "2022-10-12T09:32:53.189190Z",
     "iopub.status.idle": "2022-10-12T09:32:53.193746Z",
     "shell.execute_reply": "2022-10-12T09:32:53.192501Z"
    },
    "papermill": {
     "duration": 0.016719,
     "end_time": "2022-10-12T09:32:53.196142",
     "exception": false,
     "start_time": "2022-10-12T09:32:53.179423",
     "status": "completed"
    },
    "tags": []
   },
   "outputs": [],
   "source": [
    "#q4.hint()\n",
    "#q4.solution()"
   ]
  },
  {
   "cell_type": "markdown",
   "id": "8a095ac0",
   "metadata": {
    "papermill": {
     "duration": 0.007693,
     "end_time": "2022-10-12T09:32:53.212022",
     "exception": false,
     "start_time": "2022-10-12T09:32:53.204329",
     "status": "completed"
    },
    "tags": []
   },
   "source": [
    "## 5.\n",
    "\n",
    "Run the cell below to create and display a DataFrame called `animals`:"
   ]
  },
  {
   "cell_type": "code",
   "execution_count": 13,
   "id": "a8714d75",
   "metadata": {
    "execution": {
     "iopub.execute_input": "2022-10-12T09:32:53.230412Z",
     "iopub.status.busy": "2022-10-12T09:32:53.229540Z",
     "iopub.status.idle": "2022-10-12T09:32:53.241128Z",
     "shell.execute_reply": "2022-10-12T09:32:53.240020Z"
    },
    "papermill": {
     "duration": 0.023791,
     "end_time": "2022-10-12T09:32:53.243895",
     "exception": false,
     "start_time": "2022-10-12T09:32:53.220104",
     "status": "completed"
    },
    "tags": []
   },
   "outputs": [
    {
     "data": {
      "text/html": [
       "<div>\n",
       "<style scoped>\n",
       "    .dataframe tbody tr th:only-of-type {\n",
       "        vertical-align: middle;\n",
       "    }\n",
       "\n",
       "    .dataframe tbody tr th {\n",
       "        vertical-align: top;\n",
       "    }\n",
       "\n",
       "    .dataframe thead th {\n",
       "        text-align: right;\n",
       "    }\n",
       "</style>\n",
       "<table border=\"1\" class=\"dataframe\">\n",
       "  <thead>\n",
       "    <tr style=\"text-align: right;\">\n",
       "      <th></th>\n",
       "      <th>Cows</th>\n",
       "      <th>Goats</th>\n",
       "    </tr>\n",
       "  </thead>\n",
       "  <tbody>\n",
       "    <tr>\n",
       "      <th>Year 1</th>\n",
       "      <td>12</td>\n",
       "      <td>22</td>\n",
       "    </tr>\n",
       "    <tr>\n",
       "      <th>Year 2</th>\n",
       "      <td>20</td>\n",
       "      <td>19</td>\n",
       "    </tr>\n",
       "  </tbody>\n",
       "</table>\n",
       "</div>"
      ],
      "text/plain": [
       "        Cows  Goats\n",
       "Year 1    12     22\n",
       "Year 2    20     19"
      ]
     },
     "execution_count": 13,
     "metadata": {},
     "output_type": "execute_result"
    }
   ],
   "source": [
    "animals = pd.DataFrame({'Cows': [12, 20], 'Goats': [22, 19]}, index=['Year 1', 'Year 2'])\n",
    "animals"
   ]
  },
  {
   "cell_type": "markdown",
   "id": "6c5693f7",
   "metadata": {
    "papermill": {
     "duration": 0.007819,
     "end_time": "2022-10-12T09:32:53.259856",
     "exception": false,
     "start_time": "2022-10-12T09:32:53.252037",
     "status": "completed"
    },
    "tags": []
   },
   "source": [
    "In the cell below, write code to save this DataFrame to disk as a csv file with the name `cows_and_goats.csv`."
   ]
  },
  {
   "cell_type": "code",
   "execution_count": 14,
   "id": "1b90403d",
   "metadata": {
    "execution": {
     "iopub.execute_input": "2022-10-12T09:32:53.278515Z",
     "iopub.status.busy": "2022-10-12T09:32:53.278068Z",
     "iopub.status.idle": "2022-10-12T09:32:53.294642Z",
     "shell.execute_reply": "2022-10-12T09:32:53.293566Z"
    },
    "papermill": {
     "duration": 0.028248,
     "end_time": "2022-10-12T09:32:53.296876",
     "exception": false,
     "start_time": "2022-10-12T09:32:53.268628",
     "status": "completed"
    },
    "tags": []
   },
   "outputs": [
    {
     "data": {
      "application/javascript": [
       "parent.postMessage({\"jupyterEvent\": \"custom.exercise_interaction\", \"data\": {\"outcomeType\": 1, \"valueTowardsCompletion\": 0.16666666666666666, \"interactionType\": 1, \"questionType\": 2, \"questionId\": \"5_SaveAnimalsCsv\", \"learnToolsVersion\": \"0.3.4\", \"failureMessage\": \"\", \"exceptionClass\": \"\", \"trace\": \"\"}}, \"*\")"
      ],
      "text/plain": [
       "<IPython.core.display.Javascript object>"
      ]
     },
     "metadata": {},
     "output_type": "display_data"
    },
    {
     "data": {
      "text/markdown": [
       "<span style=\"color:#33cc33\">Correct</span>"
      ],
      "text/plain": [
       "Correct"
      ]
     },
     "metadata": {},
     "output_type": "display_data"
    }
   ],
   "source": [
    "# Your code goes here\n",
    "animals.to_csv('cows_and_goats.csv')\n",
    "\n",
    "# Check your answer\n",
    "q5.check()"
   ]
  },
  {
   "cell_type": "code",
   "execution_count": 15,
   "id": "d77a67be",
   "metadata": {
    "execution": {
     "iopub.execute_input": "2022-10-12T09:32:53.315392Z",
     "iopub.status.busy": "2022-10-12T09:32:53.314981Z",
     "iopub.status.idle": "2022-10-12T09:32:53.319111Z",
     "shell.execute_reply": "2022-10-12T09:32:53.317954Z"
    },
    "papermill": {
     "duration": 0.016181,
     "end_time": "2022-10-12T09:32:53.321286",
     "exception": false,
     "start_time": "2022-10-12T09:32:53.305105",
     "status": "completed"
    },
    "tags": []
   },
   "outputs": [],
   "source": [
    "#q5.hint()\n",
    "#q5.solution()"
   ]
  },
  {
   "cell_type": "markdown",
   "id": "9a8ff407",
   "metadata": {
    "papermill": {
     "duration": 0.007934,
     "end_time": "2022-10-12T09:32:53.337615",
     "exception": false,
     "start_time": "2022-10-12T09:32:53.329681",
     "status": "completed"
    },
    "tags": []
   },
   "source": [
    "# Keep going\n",
    "\n",
    "Move on to learn about **[indexing, selecting and assigning](https://www.kaggle.com/residentmario/indexing-selecting-assigning)**."
   ]
  },
  {
   "cell_type": "markdown",
   "id": "89fdc483",
   "metadata": {
    "papermill": {
     "duration": 0.008004,
     "end_time": "2022-10-12T09:32:53.353687",
     "exception": false,
     "start_time": "2022-10-12T09:32:53.345683",
     "status": "completed"
    },
    "tags": []
   },
   "source": [
    "---\n",
    "\n",
    "\n",
    "\n",
    "\n",
    "*Have questions or comments? Visit the [course discussion forum](https://www.kaggle.com/learn/pandas/discussion) to chat with other learners.*"
   ]
  }
 ],
 "metadata": {
  "kernelspec": {
   "display_name": "Python 3",
   "language": "python",
   "name": "python3"
  },
  "language_info": {
   "codemirror_mode": {
    "name": "ipython",
    "version": 3
   },
   "file_extension": ".py",
   "mimetype": "text/x-python",
   "name": "python",
   "nbconvert_exporter": "python",
   "pygments_lexer": "ipython3",
   "version": "3.7.12"
  },
  "papermill": {
   "default_parameters": {},
   "duration": 13.395421,
   "end_time": "2022-10-12T09:32:54.084927",
   "environment_variables": {},
   "exception": null,
   "input_path": "__notebook__.ipynb",
   "output_path": "__notebook__.ipynb",
   "parameters": {},
   "start_time": "2022-10-12T09:32:40.689506",
   "version": "2.3.4"
  }
 },
 "nbformat": 4,
 "nbformat_minor": 5
}
